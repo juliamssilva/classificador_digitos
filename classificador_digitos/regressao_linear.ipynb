{
  "cells": [
    {
      "cell_type": "code",
      "source": [
        "import numpy as np\n",
        "\n",
        "# 1) Dataset original (2D, sem bias)\n",
        "X = np.array([\n",
        "    [0.5, 1.0],\n",
        "    [1.5, 0.5],\n",
        "    [2.5, 2.0],\n",
        "    [3.5, 3.0],\n",
        "    [4.5, 2.5],\n",
        "    [5.5, 4.0]\n",
        "])\n",
        "y = np.array([-1, -1, +1, +1, +1, +1])   # rotulos\n",
        "\n",
        "# 2) Inserção da coluna de bias (1)\n",
        "X_bias = np.array([\n",
        "     [1, 0.5, 1.0],\n",
        "     [1, 1.5, 0.5],\n",
        "     [1, 2.5, 2.0],\n",
        "     [1, 3.5, 3.0],\n",
        "     [1, 4.5, 2.5],\n",
        "     [1, 5.5, 4.0]])\n",
        "\n",
        "# 3) Classe de Classificação Linear (mesma que você forneceu)\n",
        "class LinearClassifier2D:\n",
        "    def __init__(self):\n",
        "        self.w = None           # vetor de pesos [bias, w1, w2]\n",
        "\n",
        "    def fit(self, X, y):\n",
        "        \"\"\"\n",
        "        Ajusta os pesos via solução analítica (pseudoinversa):\n",
        "            w = (Xᵀ X)⁻¹ Xᵀ y\n",
        "        X deve já conter a coluna de bias.\n",
        "        \"\"\"\n",
        "        self.w = np.linalg.inv(X.T @ X) @ X.T @ y\n",
        "\n",
        "    def predict(self, X):\n",
        "        \"\"\"\n",
        "        Recebe X sem bias, insere internamente se necessário\n",
        "        e devolve rótulos –1 / +1 aplicando np.sign.\n",
        "        \"\"\"\n",
        "        # Se faltar a coluna de bias, adiciona\n",
        "        if X.shape[1] + 1 == self.w.shape[0]:\n",
        "            X = np.c_[np.ones((X.shape[0], 1)), X]\n",
        "        return np.sign(X @ self.w)\n",
        "\n",
        "# ---- Uso ----\n",
        "\n",
        "model = LinearClassifier2D()\n",
        "\n",
        "# Treino usando X_bias\n",
        "model.fit(X_bias, y)\n",
        "print(\"Pesos aprendidos (w):\", model.w)\n",
        "\n",
        "# Previsão para novos pontos\n",
        "X_novo = np.array([\n",
        "    [1.0, 1.0],\n",
        "    [2.0, 1.0],\n",
        "    [3.0, 3.0],\n",
        "    [4.0, 1.0]\n",
        "])\n",
        "y_pred = model.predict(X_novo)\n",
        "print(\"Predições para X_novo:\", y_pred)"
      ],
      "metadata": {
        "colab": {
          "base_uri": "https://localhost:8080/"
        },
        "id": "entG501gSDTp",
        "outputId": "88528972-14d0-47f1-e62c-c6db3c962e2e"
      },
      "execution_count": 1,
      "outputs": [
        {
          "output_type": "stream",
          "name": "stdout",
          "text": [
            "Pesos aprendidos (w): [-1.16442953  0.17449664  0.44966443]\n",
            "Predições para X_novo: [-1. -1.  1. -1.]\n"
          ]
        }
      ]
    }
  ],
  "metadata": {
    "colab": {
      "provenance": []
    },
    "kernelspec": {
      "display_name": "Python 3 (ipykernel)",
      "language": "python",
      "name": "python3"
    },
    "language_info": {
      "codemirror_mode": {
        "name": "ipython",
        "version": 3
      },
      "file_extension": ".py",
      "mimetype": "text/x-python",
      "name": "python",
      "nbconvert_exporter": "python",
      "pygments_lexer": "ipython3",
      "version": "3.12.4"
    }
  },
  "nbformat": 4,
  "nbformat_minor": 0
}