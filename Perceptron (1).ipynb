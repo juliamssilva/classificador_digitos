{
  "cells": [
    {
      "cell_type": "code",
      "source": [
        "import numpy as np"
      ],
      "metadata": {
        "id": "avFGQFYYZMEh"
      },
      "execution_count": null,
      "outputs": []
    },
    {
      "cell_type": "code",
      "source": [
        "# X: matriz de features (shape = n_amostras × n_featun_características)\n",
        "# y: vetor de rótulos (shape = n_amostras,), valores em {+1, -1}\n",
        "X = np.array([[2.3, 1.5],\n",
        "              [1.0, 3.2],\n",
        "              [2.1, 0.1],\n",
        "              [0.5, 1.6]])\n",
        "y = np.array([+1, -1, +1, -1])"
      ],
      "metadata": {
        "id": "m49oPkEwZL-y"
      },
      "execution_count": null,
      "outputs": []
    },
    {
      "cell_type": "code",
      "source": [
        "# Inserindo o BIAS\n",
        "X_bias = np.array([\n",
        "    [1, 2.3, 1.5],\n",
        "    [1, 1.0, 3.2],\n",
        "    [1, 2.1, 0.1],\n",
        "    [1, 0.5, 1.6]\n",
        "])  # shape: (4, 3)"
      ],
      "metadata": {
        "id": "bXHm9kZOca4g"
      },
      "execution_count": null,
      "outputs": []
    },
    {
      "cell_type": "code",
      "source": [
        "# w = [w₀, w₁, w₂]\n",
        "w = np.zeros(X_bias.shape[1])  # [0., 0., 0.]"
      ],
      "metadata": {
        "id": "z26QhDhOdpGd"
      },
      "execution_count": null,
      "outputs": []
    },
    {
      "cell_type": "code",
      "source": [
        "def lista_pontos_classificados_incorretamente(w, X_bias, y):\n",
        "    # inicia a lista vazia\n",
        "    lista = []\n",
        "    for x_i, y_i in zip(X_bias, y):\n",
        "        # se o ponto teve uma classificação incorreta\n",
        "        if np.sign(w @ x_i) != y_i:\n",
        "            # adiciona na lista\n",
        "            lista.append((x_i, y_i))\n",
        "    return lista"
      ],
      "metadata": {
        "id": "540wCvQCjtKI"
      },
      "execution_count": null,
      "outputs": []
    },
    {
      "cell_type": "code",
      "source": [
        "def acuracia(w, X_bias, y):\n",
        "    total = len(y)\n",
        "    errs = len(lista_pontos_classificados_incorretamente(w, X_bias, y))\n",
        "    return (total - errs) / total"
      ],
      "metadata": {
        "id": "CT7UosahkFX0"
      },
      "execution_count": null,
      "outputs": []
    },
    {
      "cell_type": "code",
      "source": [
        "# Constrói lista inicial de pontos mal classificados\n",
        "lista_pci = lista_pontos_classificados_incorretamente(w, X_bias, y)\n",
        "\n",
        "while (len(lista_pci)) > 0:\n",
        "    # escolhe aleatoriamente um ponto classificado incorretamente\n",
        "    x_i, y_i = lista_pci[np.random.randint(len(lista_pci))]\n",
        "\n",
        "    # atualiza o vetor de pesos\n",
        "    w = w + ( y_i * x_i )\n",
        "\n",
        "    # atualiza a lista pci\n",
        "    lista_pci = lista_pontos_classificados_incorretamente(w, X_bias, y)\n",
        "\n",
        "# retorna os pesos finais após convergência\n",
        "print(w)\n",
        "print(lista_pci)"
      ],
      "metadata": {
        "colab": {
          "base_uri": "https://localhost:8080/"
        },
        "id": "xjXSFXOwkRhK",
        "outputId": "15fe56c9-e5fd-4e8d-ca5d-c0c8701504f3"
      },
      "execution_count": null,
      "outputs": [
        {
          "output_type": "stream",
          "name": "stdout",
          "text": [
            "[ 0.   1.6 -1.5]\n",
            "[]\n"
          ]
        }
      ]
    },
    {
      "cell_type": "code",
      "source": [
        "teste = np.array([1, 2, 6.4])\n",
        "teste"
      ],
      "metadata": {
        "colab": {
          "base_uri": "https://localhost:8080/"
        },
        "id": "M3dctfCmlCF1",
        "outputId": "a0b8ffec-a52c-44af-a78b-7bad687b1aad"
      },
      "execution_count": null,
      "outputs": [
        {
          "output_type": "execute_result",
          "data": {
            "text/plain": [
              "array([1. , 2. , 6.4])"
            ]
          },
          "metadata": {},
          "execution_count": 43
        }
      ]
    },
    {
      "cell_type": "code",
      "source": [
        "teste @ w"
      ],
      "metadata": {
        "colab": {
          "base_uri": "https://localhost:8080/"
        },
        "id": "KJ0c6j_1mwCZ",
        "outputId": "8c665036-f915-4733-90df-152fdc0d0902"
      },
      "execution_count": null,
      "outputs": [
        {
          "output_type": "execute_result",
          "data": {
            "text/plain": [
              "np.float64(-8.280000000000003)"
            ]
          },
          "metadata": {},
          "execution_count": 44
        }
      ]
    },
    {
      "cell_type": "code",
      "source": [
        "w @ teste"
      ],
      "metadata": {
        "colab": {
          "base_uri": "https://localhost:8080/"
        },
        "id": "6MpK0XjjrVTo",
        "outputId": "5f853b75-f183-4353-aa9a-6ab79f23e85a"
      },
      "execution_count": null,
      "outputs": [
        {
          "output_type": "execute_result",
          "data": {
            "text/plain": [
              "np.float64(-8.280000000000003)"
            ]
          },
          "metadata": {},
          "execution_count": 46
        }
      ]
    },
    {
      "cell_type": "code",
      "source": [
        "np.sign(teste @ w)"
      ],
      "metadata": {
        "colab": {
          "base_uri": "https://localhost:8080/"
        },
        "id": "OZJhmFKom1lz",
        "outputId": "a826f554-69e5-4440-ed16-f8791b302cd5"
      },
      "execution_count": null,
      "outputs": [
        {
          "output_type": "execute_result",
          "data": {
            "text/plain": [
              "np.float64(-1.0)"
            ]
          },
          "metadata": {},
          "execution_count": 45
        }
      ]
    },
    {
      "cell_type": "code",
      "source": [],
      "metadata": {
        "id": "AB-Ti6tynJlo"
      },
      "execution_count": null,
      "outputs": []
    }
  ],
  "metadata": {
    "colab": {
      "provenance": []
    },
    "kernelspec": {
      "display_name": "Python 3 (ipykernel)",
      "language": "python",
      "name": "python3"
    },
    "language_info": {
      "codemirror_mode": {
        "name": "ipython",
        "version": 3
      },
      "file_extension": ".py",
      "mimetype": "text/x-python",
      "name": "python",
      "nbconvert_exporter": "python",
      "pygments_lexer": "ipython3",
      "version": "3.12.4"
    }
  },
  "nbformat": 4,
  "nbformat_minor": 0
}