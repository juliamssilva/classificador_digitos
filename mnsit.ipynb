{
 "cells": [
  {
   "cell_type": "markdown",
   "id": "35dc5042",
   "metadata": {},
   "source": [
    "### Projeto Prático - *Reconhecimento de Dígitos*"
   ]
  },
  {
   "cell_type": "markdown",
   "id": "2bf452e5",
   "metadata": {},
   "source": [
    "Alunos:\n",
    "- Júlia Moraes da Silva 20230014434\n",
    "- Luiz Eduardo de Almeida Siqueira Silva 20230014210"
   ]
  },
  {
   "cell_type": "markdown",
   "id": "56c56f3e",
   "metadata": {},
   "source": [
    "#### Importando as bibliotecas"
   ]
  },
  {
   "cell_type": "code",
   "execution_count": 26,
   "id": "5c7c0d22",
   "metadata": {},
   "outputs": [],
   "source": [
    "import numpy as np\n",
    "from numpy import linalg as LA\n",
    "import random\n",
    "from random import sample\n",
    "import matplotlib.pyplot as plt\n",
    "import pandas as pd\n",
    "import csv"
   ]
  },
  {
   "cell_type": "markdown",
   "id": "40210450",
   "metadata": {},
   "source": [
    "#### Explicação do Dataset"
   ]
  },
  {
   "cell_type": "markdown",
   "id": "8d466811",
   "metadata": {},
   "source": [
    "Cada imagem é composta por 28 linhas e 28 colunas em um total de 784 pixels. Os dados de entrada (treino) possuem 785 colunas, a primeira coluna é chamada \"label\", identificando o dígito desenhado pelo usuário. O resto das colunas contém os valores de pixels da imagem associada. Cada coluna de pixel nos dados de treino, é nomeada \"pixelx\" onde x é um inteiro no intervalo [0,783]. Para localizar este pixel na imagem, x foi decomposto como x = i * 28 + j. Onde i e j são inteiros no intervalo [0,27]. "
   ]
  },
  {
   "cell_type": "markdown",
   "id": "aaadb35b",
   "metadata": {},
   "source": [
    "Vamos inicar importando os csv."
   ]
  },
  {
   "cell_type": "markdown",
   "id": "8d3f9437",
   "metadata": {},
   "source": [
    "#### Redução da dimensão das amostras "
   ]
  },
  {
   "cell_type": "code",
   "execution_count": 27,
   "id": "87b99bad",
   "metadata": {},
   "outputs": [],
   "source": [
    "treino = pd.read_csv('train.csv', sep=';')  \n",
    "matriz_treino = treino.values\n",
    "\n",
    "\n",
    "teste = pd.read_csv('test.csv', sep=';')\n",
    "matriz_teste = teste.values"
   ]
  },
  {
   "cell_type": "code",
   "execution_count": 33,
   "id": "1771ed10",
   "metadata": {},
   "outputs": [],
   "source": [
    "\n",
    "def acessar_imagem(dataset, indice):\n",
    "    \"\"\"\n",
    "    Acessa uma imagem do dataset e retorna a imagem 28x28 e o label.\n",
    "    \n",
    "    Args:\n",
    "        dataset (numpy.ndarray): O dataset contendo imagens e labels.\n",
    "        indice (int): O índice da imagem a ser acessada.\n",
    "    Returns:\n",
    "        tuple: Uma tupla contendo a imagem 28x28 e o label (ou None se não houver label).\n",
    "    \"\"\"\n",
    "\n",
    "    # Verificar se temos dados válidos\n",
    "    if dataset.shape[1] >= 785:\n",
    "    # Dataset com label\n",
    "        label = dataset[indice, 0] \n",
    "        pixels = dataset[indice, 1:785] \n",
    "    \n",
    "        #  Só faz reshape se temos 784 pixels\n",
    "        if len(pixels) == 784:\n",
    "            imagem_28x28 = pixels.reshape(28, 28)\n",
    "        else:\n",
    "            print(f\"ERRO: {len(pixels)} pixels encontrados, esperado 784\")\n",
    "        \n",
    "    elif dataset.shape[1] == 784:\n",
    "    # Dataset só com pixels\n",
    "        pixels = dataset[indice]\n",
    "        label = None\n",
    "    \n",
    "    #print(f\"Dataset label : {label}\")\n",
    "    #print(f\"Pixels: {len(pixels)}\")\n",
    "    \n",
    "    imagem_28x28 = pixels.reshape(28, 28)\n",
    "\n",
    "    return imagem_28x28, label\n",
    "    "
   ]
  },
  {
   "cell_type": "code",
   "execution_count": 34,
   "id": "32585727",
   "metadata": {},
   "outputs": [],
   "source": [
    "def visualizar_imagem(imagem_28x28, label):\n",
    "    \"\"\"\n",
    "    Visualiza uma imagem 28x28\n",
    "    \n",
    "    Parâmetros:\n",
    "    - imagem_28x28: matriz 28x28 com os pixels da imagem\n",
    "    - label: o dígito da imagem \n",
    "    \n",
    "    \n",
    "    Retorna:\n",
    "    - imagem plotada com título indicando o dígito (ou 'Imagem do Dataset' se label for None)\n",
    "    \"\"\"\n",
    "    \n",
    "    if imagem_28x28.shape != (28, 28):\n",
    "        print(f\"ERRO: Formato incorreto {imagem_28x28.shape}. Esperado (28, 28)\")\n",
    "        return None\n",
    "    \n",
    "    # Criar título da imagem\n",
    "    if label is not None:\n",
    "        titulo = f'Dígito: {label}'\n",
    "    else:\n",
    "        titulo = 'Imagem do Dataset'\n",
    "    \n",
    "    # Plotar a imagem\n",
    "    plt.figure(figsize=(6, 6))\n",
    "    plt.imshow(imagem_28x28, cmap='gray')\n",
    "    plt.title(titulo)\n",
    "    plt.axis('off')\n",
    "    plt.show()\n",
    "    \n",
    "    "
   ]
  },
  {
   "cell_type": "code",
   "execution_count": 35,
   "id": "e38c4419",
   "metadata": {},
   "outputs": [],
   "source": [
    "def intensidade_imagem(imagem):\n",
    "    \"\"\"\n",
    "    Calcula a intensidade de preto de uma imagem.\n",
    "\n",
    "    l =  ∑ (i=0 até 783)(pixel_i)/255\n",
    "    \n",
    "    Parâmetros:\n",
    "    - imagem: matriz 28x28 com os valores dos pixels\n",
    "    \n",
    "    Retorna:\n",
    "    - intensidade: aproximação da quantidade de pixels pretos na imagem \n",
    "    \"\"\"\n",
    "\n",
    "    intensidade =  np.sum(imagem)/255\n",
    "     \n",
    "    return intensidade\n",
    "    "
   ]
  },
  {
   "cell_type": "code",
   "execution_count": 36,
   "id": "6a25ac45",
   "metadata": {},
   "outputs": [],
   "source": [
    "def simetria_imagem(imagem):\n",
    "    \"\"\"\n",
    "    Calcula a simetria de uma imagem.\n",
    "\n",
    "    s_v =  ∑ (i=0 até 27)(j=0 até 13) || pixel_ij - pixel_i(27-j) ||/255\n",
    "\n",
    "    s_h = ∑ (i=0 até 13)(j=0 até 27) || pixel_ij - pixel_(27-i)j ||/255\n",
    "\n",
    "    s = s_v + s_h\n",
    "\n",
    "    Parâmetros:\n",
    "    - imagem: matriz 28x28 com os valores dos pixels\n",
    "    \n",
    "    Retorna:\n",
    "    - simetria: medida de simetria da imagem \n",
    "    \"\"\"\n",
    "    s_v = 0\n",
    "    s_h = 0\n",
    "    simetria = 0\n",
    "    for i in range(28):\n",
    "        for j in range(14):\n",
    "            s_v += np.abs(imagem[i, j] - imagem[i, 27 - j])\n",
    "\n",
    "    s_v /= 255\n",
    "\n",
    "    for i in range(14):\n",
    "        for j in range(28):\n",
    "            s_h += np.abs(imagem[i, j] - imagem[27 - i, j])\n",
    "\n",
    "    s_h /= 255\n",
    "\n",
    "    simetria = s_v + s_h\n",
    "    \n",
    "    return simetria\n"
   ]
  },
  {
   "cell_type": "code",
   "execution_count": 37,
   "id": "1a4d2dc1",
   "metadata": {},
   "outputs": [],
   "source": [
    "def informs (dataset, indice):\n",
    "    \"\"\"\n",
    "    Função para extrair informações de uma imagem em um conjunto de dados.\n",
    "    \n",
    "    \"\"\"\n",
    "    info = []\n",
    "    \n",
    "    imagem, label = acessar_imagem(dataset, indice)\n",
    "    info.append(label)\n",
    "    intensidade = intensidade_imagem(imagem)\n",
    "    info.append(intensidade)\n",
    "    simetria = simetria_imagem(imagem)\n",
    "    info.append(simetria)\n",
    "        \n",
    "    return info\n"
   ]
  },
  {
   "cell_type": "markdown",
   "id": "5a5ded61",
   "metadata": {},
   "source": [
    "Criando os arquivos com a redução das dimensões das amostras. O primeiro elemento será o label, seguido pela intensidade e pela simetria. Fizemos isso tanto para treino como para teste."
   ]
  },
  {
   "cell_type": "code",
   "execution_count": 38,
   "id": "20a2aeec",
   "metadata": {},
   "outputs": [],
   "source": [
    "for i in range(len(matriz_treino)):\n",
    "    dados = informs(matriz_treino, i)\n",
    "    with open(\"train_redu.csv\", mode=\"a\", newline=\"\", encoding=\"utf-8\") as arquivo:\n",
    "        escritor = csv.writer(arquivo, delimiter=\";\")  # separador ;\n",
    "        escritor.writerow(dados)"
   ]
  },
  {
   "cell_type": "code",
   "execution_count": 39,
   "id": "6ca290ec",
   "metadata": {},
   "outputs": [],
   "source": [
    "for i in range(len(matriz_teste)):\n",
    "    dados = informs(matriz_teste, i)\n",
    "    with open(\"test_redu.csv\", mode=\"a\", newline=\"\", encoding=\"utf-8\") as arquivo:\n",
    "        escritor = csv.writer(arquivo, delimiter=\";\")  # separador ;\n",
    "        escritor.writerow(dados)"
   ]
  },
  {
   "cell_type": "markdown",
   "id": "f3651531",
   "metadata": {},
   "source": [
    "#### Classificação dos dígitos 1 x 5 "
   ]
  },
  {
   "cell_type": "markdown",
   "id": "420632b1",
   "metadata": {},
   "source": [
    "Separando em treino e em teste apenas as imagens com 1 e 5."
   ]
  },
  {
   "cell_type": "code",
   "execution_count": 21,
   "id": "978838e0",
   "metadata": {},
   "outputs": [
    {
     "data": {
      "text/plain": [
       "(1184, 3)"
      ]
     },
     "execution_count": 21,
     "metadata": {},
     "output_type": "execute_result"
    }
   ],
   "source": [
    "\n",
    "# Carregar os dados (ajuste o caminho do arquivo)\n",
    "df_train_redu = pd.read_csv('train_redu.csv', sep=';', header=None, \n",
    "                 names=['label', 'intensidade', 'simetricidade'])\n",
    "\n",
    "# Filtrar apenas as linhas com label 1 ou 5\n",
    "df_train_1x5 = df_train_redu[df_train_redu['label'].isin([1, 5])]\n",
    "\n",
    "df_train_1x5.shape"
   ]
  },
  {
   "cell_type": "code",
   "execution_count": 22,
   "id": "26efd817",
   "metadata": {},
   "outputs": [
    {
     "data": {
      "text/plain": [
       "(583, 3)"
      ]
     },
     "execution_count": 22,
     "metadata": {},
     "output_type": "execute_result"
    }
   ],
   "source": [
    "# Carregar os dados (ajuste o caminho do arquivo)\n",
    "df_test_redu = pd.read_csv('test_redu.csv', sep=';', header=None, \n",
    "                 names=['label', 'intensidade', 'simetricidade'])\n",
    "\n",
    "# Filtrar apenas as linhas com label 1 ou 5\n",
    "df_test_1x5 = df_test_redu[df_test_redu['label'].isin([1, 5])]\n",
    "\n",
    "df_test_1x5.shape"
   ]
  },
  {
   "cell_type": "code",
   "execution_count": 25,
   "id": "fae94a34",
   "metadata": {},
   "outputs": [
    {
     "data": {
      "image/png": "[encoded data removed]",
      "text/plain": [
       "<Figure size 600x400 with 1 Axes>"
      ]
     },
     "metadata": {},
     "output_type": "display_data"
    }
   ],
   "source": [
    "train_1 = df_train_1x5[df_train_1x5['label'] == 1]\n",
    "train_5 = df_train_1x5[df_train_1x5['label'] == 5]\n",
    "\n",
    "\n",
    "plt.figure(figsize=(6, 4))\n",
    "\n",
    "plt.scatter(train_1['intensidade'], train_1['simetricidade'], c='red', label='1')\n",
    "plt.scatter(train_5['intensidade'], train_5['simetricidade'], c='blue', label='5')\n",
    "\n",
    "plt.xlabel('Intensidade')\n",
    "plt.ylabel('Simetria')\n",
    "plt.title('Dígitos 1x5')\n",
    "plt.legend()\n",
    "plt.grid(True)\n",
    "plt.show()"
   ]
  }
 ],
 "metadata": {
  "kernelspec": {
   "display_name": "Python 3",
   "language": "python",
   "name": "python3"
  },
  "language_info": {
   "codemirror_mode": {
    "name": "ipython",
    "version": 3
   },
   "file_extension": ".py",
   "mimetype": "text/x-python",
   "name": "python",
   "nbconvert_exporter": "python",
   "pygments_lexer": "ipython3",
   "version": "3.11.3"
  }
 },
 "nbformat": 4,
 "nbformat_minor": 5
}
